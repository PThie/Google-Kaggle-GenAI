{
 "cells": [
  {
   "cell_type": "markdown",
   "metadata": {},
   "source": [
    "# AI(t)HistChronicle - An Engine for Alternative History"
   ]
  },
  {
   "cell_type": "markdown",
   "metadata": {},
   "source": [
    "## Info: AI(t)HistChronicle\n",
    "\n",
    "### Aim\n",
    "- Based on the user input, the script creates a response drawing an alternative version of historical events\n",
    "\n",
    "### AI Capabilities used:\n",
    "- RAG (Retrieval Augmented Generation) through feeding in background information from Wikipedia and news articles from Wikinews\n",
    "- Controlled generation by specifying, for instance, the role the model should take and the output type the response should have\n",
    "\n",
    "### Author\n",
    "Dr. Patrick Thiel\n",
    "\n",
    "### NOTE:\n",
    "This was original a Kaggle notebook. Some things might be different if run locally (e.g. the API key handling)."
   ]
  },
  {
   "cell_type": "markdown",
   "metadata": {},
   "source": [
    "## Setup"
   ]
  },
  {
   "cell_type": "code",
   "execution_count": null,
   "metadata": {
    "trusted": true
   },
   "outputs": [],
   "source": [
    "# installion (if required)\n",
    "# !pip install groq\n",
    "# !pip install wikipedia"
   ]
  },
  {
   "cell_type": "code",
   "execution_count": 22,
   "metadata": {
    "execution": {
     "iopub.execute_input": "2025-04-07T09:14:15.619359Z",
     "iopub.status.busy": "2025-04-07T09:14:15.618992Z",
     "iopub.status.idle": "2025-04-07T09:14:15.933345Z",
     "shell.execute_reply": "2025-04-07T09:14:15.932309Z",
     "shell.execute_reply.started": "2025-04-07T09:14:15.619323Z"
    },
    "trusted": true
   },
   "outputs": [],
   "source": [
    "from groq import Groq\n",
    "import re\n",
    "import textwrap\n",
    "from kaggle_secrets import UserSecretsClient\n",
    "import wikipedia\n",
    "import requests"
   ]
  },
  {
   "cell_type": "code",
   "execution_count": 23,
   "metadata": {
    "execution": {
     "iopub.execute_input": "2025-04-07T09:14:17.011923Z",
     "iopub.status.busy": "2025-04-07T09:14:17.011304Z",
     "iopub.status.idle": "2025-04-07T09:14:17.165998Z",
     "shell.execute_reply": "2025-04-07T09:14:17.164702Z",
     "shell.execute_reply.started": "2025-04-07T09:14:17.011886Z"
    },
    "trusted": true
   },
   "outputs": [],
   "source": [
    "# Retrieve API from secrets\n",
    "user_secrets = UserSecretsClient()\n",
    "api_key = user_secrets.get_secret(\"deepseek\")"
   ]
  },
  {
   "cell_type": "code",
   "execution_count": 24,
   "metadata": {
    "execution": {
     "iopub.execute_input": "2025-04-07T09:14:18.452710Z",
     "iopub.status.busy": "2025-04-07T09:14:18.452313Z",
     "iopub.status.idle": "2025-04-07T09:14:18.778371Z",
     "shell.execute_reply": "2025-04-07T09:14:18.777032Z",
     "shell.execute_reply.started": "2025-04-07T09:14:18.452681Z"
    },
    "trusted": true
   },
   "outputs": [],
   "source": [
    "# initialize client for DeepSeek model (using API key)\n",
    "client = Groq(api_key = api_key)"
   ]
  },
  {
   "cell_type": "markdown",
   "metadata": {},
   "source": [
    "## Specification of Input\n",
    "\n",
    "- Defines which counterfactural world is created"
   ]
  },
  {
   "cell_type": "code",
   "execution_count": 25,
   "metadata": {
    "execution": {
     "iopub.execute_input": "2025-04-07T09:14:21.767451Z",
     "iopub.status.busy": "2025-04-07T09:14:21.767059Z",
     "iopub.status.idle": "2025-04-07T09:14:21.772499Z",
     "shell.execute_reply": "2025-04-07T09:14:21.771339Z",
     "shell.execute_reply.started": "2025-04-07T09:14:21.767422Z"
    },
    "trusted": true
   },
   "outputs": [],
   "source": [
    "# inputs\n",
    "event = \"Assassination of John F Kennedy\"\n",
    "scenario = \"What if JFK was not murdered?\"\n",
    "output_type = \"news article\"\n",
    "role = \"journalist\"\n",
    "additional_instructions = \"Be dramatic. You are working for The Sun.\" # In case you want to give the text a specific twist. If not, leave empty!"
   ]
  },
  {
   "cell_type": "markdown",
   "metadata": {},
   "source": [
    "## API Connection to Wikipedia"
   ]
  },
  {
   "cell_type": "code",
   "execution_count": 26,
   "metadata": {
    "execution": {
     "iopub.execute_input": "2025-04-07T09:14:28.848760Z",
     "iopub.status.busy": "2025-04-07T09:14:28.848423Z",
     "iopub.status.idle": "2025-04-07T09:14:29.863985Z",
     "shell.execute_reply": "2025-04-07T09:14:29.862744Z",
     "shell.execute_reply.started": "2025-04-07T09:14:28.848736Z"
    },
    "trusted": true
   },
   "outputs": [],
   "source": [
    "# retrieve background information from Wikipedia\n",
    "def getting_background_wikipedia(event: str):\n",
    "    summary = wikipedia.summary(event, sentences = 50)\n",
    "    return summary"
   ]
  },
  {
   "cell_type": "markdown",
   "metadata": {},
   "source": [
    "## Getting news articles (Wikinews)"
   ]
  },
  {
   "cell_type": "code",
   "execution_count": 50,
   "metadata": {
    "execution": {
     "iopub.execute_input": "2025-04-07T09:20:24.841563Z",
     "iopub.status.busy": "2025-04-07T09:20:24.841131Z",
     "iopub.status.idle": "2025-04-07T09:20:24.849380Z",
     "shell.execute_reply": "2025-04-07T09:20:24.847993Z",
     "shell.execute_reply.started": "2025-04-07T09:20:24.841530Z"
    },
    "trusted": true
   },
   "outputs": [],
   "source": [
    "def getting_wikinews(event: str):\n",
    "    # look for news\n",
    "    url = \"https://en.wikinews.org/w/api.php\"\n",
    "    params = {\n",
    "        \"action\": \"query\",\n",
    "        \"format\": \"json\",\n",
    "        \"list\": \"search\",\n",
    "        \"srsearch\": event,\n",
    "    }\n",
    "    response = requests.get(url, params = params).json()\n",
    "    search_results = response.get(\"query\", {}).get(\"search\", [])\n",
    "    \n",
    "    if not search_results:\n",
    "        return None\n",
    "\n",
    "    articles_list = list()\n",
    "    for element in search_results[1:5]: # NOTE: set a limit on number of articles due to the restriction of allowed processed input tokens in the model\n",
    "        # Get title of article\n",
    "        title = element[\"title\"]\n",
    "        \n",
    "        # Get page content\n",
    "        page_params = {\n",
    "            \"action\": \"query\",\n",
    "            \"format\": \"json\",\n",
    "            \"prop\": \"extracts\",\n",
    "            \"explaintext\": True,\n",
    "            \"titles\": title,\n",
    "        }\n",
    "        \n",
    "        page_response = requests.get(url, params = page_params).json()\n",
    "        pages = page_response[\"query\"][\"pages\"]\n",
    "        page_content = next(iter(pages.values()))[\"extract\"]\n",
    "\n",
    "        articles_list.append({\"title\": title, \"content\": page_content})\n",
    "\n",
    "    return articles_list"
   ]
  },
  {
   "cell_type": "markdown",
   "metadata": {},
   "source": [
    "## Text Generation"
   ]
  },
  {
   "cell_type": "code",
   "execution_count": 53,
   "metadata": {
    "execution": {
     "iopub.execute_input": "2025-04-07T09:20:36.922673Z",
     "iopub.status.busy": "2025-04-07T09:20:36.922297Z",
     "iopub.status.idle": "2025-04-07T09:20:43.136975Z",
     "shell.execute_reply": "2025-04-07T09:20:43.135979Z",
     "shell.execute_reply.started": "2025-04-07T09:20:36.922643Z"
    },
    "trusted": true
   },
   "outputs": [],
   "source": [
    "def generating_text(event: str, scenario: str, output_type: str):\n",
    "    prompt = f\"\"\"\n",
    "        Based on the following Wikipedia summary about the {event}:\n",
    "        {getting_background_wikipedia(event)}\n",
    "        Further, here some relevant news article from the past: {getting_wikinews(event)}\n",
    "        Take on the role {role} in 2025. Write a {output_type}.\n",
    "        Imagining that the following event in history had a different outcome: {event}.\n",
    "        Consider the following scenario: {scenario} as counterfactual scenario.\n",
    "        {additional_instructions}\n",
    "        Write it not conditional. Write in active style such that you could think it really happened like this\n",
    "    \"\"\"\n",
    "\n",
    "    completion = client.chat.completions.create(\n",
    "        model = \"deepseek-r1-distill-llama-70b\",\n",
    "        messages = [\n",
    "            {\n",
    "                \"role\": \"user\",\n",
    "                \"content\": prompt\n",
    "            }\n",
    "        ],\n",
    "        temperature = 0.9,\n",
    "        max_completion_tokens = 2000,\n",
    "        stream = True\n",
    "    )\n",
    "\n",
    "    return completion\n",
    "\n",
    "response = generating_text(event = event, scenario = scenario, output_type = output_type)"
   ]
  },
  {
   "cell_type": "markdown",
   "metadata": {},
   "source": [
    "## Extracting the response\n",
    "\n",
    "- The model output consists of reasoning by the model about what to write and the actual output. We are only interested in the counterfactual world, hence the generated text."
   ]
  },
  {
   "cell_type": "code",
   "execution_count": 54,
   "metadata": {
    "execution": {
     "iopub.execute_input": "2025-04-07T09:20:47.467673Z",
     "iopub.status.busy": "2025-04-07T09:20:47.467330Z",
     "iopub.status.idle": "2025-04-07T09:20:48.897924Z",
     "shell.execute_reply": "2025-04-07T09:20:48.896871Z",
     "shell.execute_reply.started": "2025-04-07T09:20:47.467643Z"
    },
    "trusted": true
   },
   "outputs": [],
   "source": [
    "def extracting_response(response):\n",
    "    response_text = \"\"\n",
    "    for chunk in response:\n",
    "        text = chunk.choices[0].delta.content or \"\"\n",
    "        response_text += text\n",
    "\n",
    "    return response_text\n",
    "\n",
    "text = extracting_response(response)"
   ]
  },
  {
   "cell_type": "markdown",
   "metadata": {},
   "source": [
    "## Adding some styling to the text"
   ]
  },
  {
   "cell_type": "code",
   "execution_count": 55,
   "metadata": {
    "execution": {
     "iopub.execute_input": "2025-04-07T09:20:50.477708Z",
     "iopub.status.busy": "2025-04-07T09:20:50.477326Z",
     "iopub.status.idle": "2025-04-07T09:20:50.486764Z",
     "shell.execute_reply": "2025-04-07T09:20:50.485292Z",
     "shell.execute_reply.started": "2025-04-07T09:20:50.477682Z"
    },
    "trusted": true
   },
   "outputs": [],
   "source": [
    "def formatting_text(text):\n",
    "    raw_text = re.search(r'</think>(.*)', text, re.DOTALL).group(1).strip()\n",
    "    lines = raw_text.split('\\n')\n",
    "    formatted_article = []\n",
    "\n",
    "    # Wrap settings\n",
    "    wrapper = textwrap.TextWrapper(width=90)\n",
    "\n",
    "    # Detect and format special parts\n",
    "    for line in lines:\n",
    "        line = line.strip()\n",
    "        if line.startswith(\"**Date:\"):\n",
    "            formatted_article.append(f\"\\n📅 {line.replace(\"**\", \"\")}\")\n",
    "        elif line.startswith(\"**By:\"):\n",
    "            formatted_article.append(f\"✍️  {line.replace(\"**\", \"\")}\\n\")\n",
    "        elif line.startswith(\"---\"):\n",
    "            continue  # skip the horizontal line\n",
    "        elif line.startswith(\"**\") and line.endswith(\"**\"):\n",
    "            title = line.replace(\"**\", \"\")\n",
    "            formatted_article.append(f\"\\n📰 {title}\\n\" + \"-\" * len(title))\n",
    "        elif line.startswith('\"') or line.startswith(\"“\"):\n",
    "            # Quote handling\n",
    "            formatted_article.append(\"\\n🗨️  \" + wrapper.fill(line))\n",
    "        else:\n",
    "            formatted_article.append(wrapper.fill(line))\n",
    "    \n",
    "    # Join the final result\n",
    "    formatted_output = \"\\n\\n\".join(formatted_article)\n",
    "    \n",
    "    # Print or use it\n",
    "    return formatted_output"
   ]
  },
  {
   "cell_type": "code",
   "execution_count": 56,
   "metadata": {
    "execution": {
     "iopub.execute_input": "2025-04-07T09:20:53.632896Z",
     "iopub.status.busy": "2025-04-07T09:20:53.632493Z",
     "iopub.status.idle": "2025-04-07T09:20:53.641692Z",
     "shell.execute_reply": "2025-04-07T09:20:53.640377Z",
     "shell.execute_reply.started": "2025-04-07T09:20:53.632869Z"
    },
    "trusted": true
   },
   "outputs": [
    {
     "name": "stdout",
     "output_type": "stream",
     "text": [
      "\n",
      "📰 JFK SURVIVES DALLAS SHOT: A PRESIDENT'S MIRACLE AND A NATION REBORN\n",
      "-------------------------------------------------------------------\n",
      "\n",
      "\n",
      "\n",
      "*Dallas, TX — November 22, 1963* — In a stunning turn of events that will be etched into\n",
      "the annals of American history, President John F. Kennedy has survived the assassination\n",
      "attempt in Dallas, Texas. The nation, left breathless and in disbelief, is grappling with\n",
      "the magnitude of what could have been—and what now can be.\n",
      "\n",
      "\n",
      "\n",
      "At approximately 12:30 p.m. Central Standard Time, as Kennedy’s motorcade made its way\n",
      "through Dealey Plaza, shots rang out from the sixth floor of the Texas School Book\n",
      "Depository. The President was struck in the neck, but in a miraculous twist, the wound was\n",
      "not fatal. Texas Governor John Connally, who was riding alongside Kennedy, was also\n",
      "injured but is expected to recover.\n",
      "\n",
      "\n",
      "\n",
      "Secret Service agents acted with lightning speed, rushing the presidential limousine to\n",
      "Parkland Memorial Hospital. Doctors worked tirelessly to stabilize Kennedy, who underwent\n",
      "emergency surgery. By evening, the President was listed in stable condition, his trademark\n",
      "charm and resilience already shining through. “He gave us a thumbs-up from the gurney,”\n",
      "said one hospital source, who spoke on condition of anonymity. “It’s JFK being JFK.”\n",
      "\n",
      "\n",
      "\n",
      "The would-be assassin, Lee Harvey Oswald, a 24-year-old former Marine and employee of the\n",
      "depository, was apprehended by Dallas police just 70 minutes after the shooting. Oswald,\n",
      "who had a history of radical leanings and defected to the Soviet Union in 1959, was found\n",
      "hiding in the Texas Theatre, a local movie house. A scuffle ensued, and Oswald was subdued\n",
      "after pulling a revolver and firing at an officer. “He didn’t go down without a fight,”\n",
      "said one officer involved in the arrest.\n",
      "\n",
      "\n",
      "\n",
      "The nation held its breath as details of the failed assassination trickled out. Jacqueline\n",
      "Kennedy, who cradled her husband’s head in her lap during the chaotic ride to the\n",
      "hospital, emerged as a symbol of strength. “She was calm, almost serene,” said a Secret\n",
      "Service agent. “She kept saying, ‘He’s going to be okay.’ And somehow, you believed her.”\n",
      "\n",
      "\n",
      "\n",
      "As the hours passed, the country erupted in a mix of relief and outrage. Church bells\n",
      "tolled in every state, and impromptu vigils popped up from Times Square to the Golden Gate\n",
      "Bridge. In Washington, Vice President Lyndon B. Johnson, who had been riding in a car\n",
      "behind Kennedy, was visibly shaken but vowed, “We will not let this act of violence define\n",
      "us. We will move forward, together.”\n",
      "\n",
      "\n",
      "\n",
      "The FBI, under the direction of J. Edgar Hoover, has taken over the investigation, with\n",
      "Attorney General Robert F. Kennedy leading the charge. “We will leave no stone unturned,”\n",
      "RFK declared. “The American people deserve answers, and they deserve justice.” Early\n",
      "evidence suggests Oswald acted alone, but theories are already swirling about possible\n",
      "wider conspiracies.\n",
      "\n",
      "\n",
      "\n",
      "As the President begins his recovery, the question on everyone’s mind is: *What now?*\n",
      "Kennedy’s survival has sent shockwaves through the political landscape. His aides are\n",
      "already whispering about a renewed push for civil rights legislation, which had stalled in\n",
      "Congress. “This was a wake-up call,” said one White House insider. “The President is more\n",
      "determined than ever to see his vision for America through.”\n",
      "\n",
      "\n",
      "\n",
      "Historians are already calling this a turning point in the Kennedy presidency. “If he can\n",
      "survive this, there’s no limit to what he can achieve,” said presidential historian Arthur\n",
      "M. Schlesinger Jr. “This is a second chance—not just for JFK, but for the country.”\n",
      "\n",
      "\n",
      "\n",
      "As the sun sets on Dallas, the mood is one of cautious optimism. The Kennedys, ever the\n",
      "embodiment of hope, have once again reminded America of its resilience. And as the\n",
      "President recuperates, the nation is left to ponder the infinite possibilities of a future\n",
      "that very nearly wasn’t.\n",
      "\n",
      "\n",
      "\n",
      "*In a world that came too close to losing its leader, the words of John F. Kennedy himself\n",
      "ring truer than ever: “Let every nation know, whether it wishes us well or ill, that we\n",
      "shall pay any price, bear any burden, meet any hardship, support any friend, oppose any\n",
      "foe to assure the survival and the success of liberty.”*\n",
      "\n",
      "\n",
      "\n",
      "\n",
      "📰 Byline: Emily J. Miller, National Affairs Correspondent, The Sun\n",
      "----------------------------------------------------------------\n"
     ]
    }
   ],
   "source": [
    "final_text = formatting_text(text)\n",
    "print(final_text)"
   ]
  }
 ],
 "metadata": {
  "kaggle": {
   "accelerator": "none",
   "dataSources": [],
   "dockerImageVersionId": 30918,
   "isGpuEnabled": false,
   "isInternetEnabled": true,
   "language": "python",
   "sourceType": "notebook"
  },
  "kernelspec": {
   "display_name": "Python 3",
   "language": "python",
   "name": "python3"
  },
  "language_info": {
   "codemirror_mode": {
    "name": "ipython",
    "version": 3
   },
   "file_extension": ".py",
   "mimetype": "text/x-python",
   "name": "python",
   "nbconvert_exporter": "python",
   "pygments_lexer": "ipython3",
   "version": "3.10.12"
  }
 },
 "nbformat": 4,
 "nbformat_minor": 4
}
